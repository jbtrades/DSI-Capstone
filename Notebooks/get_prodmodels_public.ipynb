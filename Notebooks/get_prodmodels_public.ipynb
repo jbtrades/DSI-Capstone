{
 "cells": [
  {
   "cell_type": "code",
   "execution_count": 28,
   "metadata": {},
   "outputs": [],
   "source": [
    "import pandas as pd\n",
    "import seaborn as sns\n",
    "import matplotlib.pyplot as plt\n",
    "import numpy as np\n",
    "from scipy import stats \n",
    "\n",
    "from sklearn.model_selection import RandomizedSearchCV\n",
    "from sklearn.model_selection import train_test_split, GridSearchCV, cross_val_score,StratifiedKFold\n",
    "from sklearn.metrics import classification_report, confusion_matrix, accuracy_score, roc_auc_score\n",
    "from sklearn.metrics import plot_confusion_matrix,plot_roc_curve,recall_score,precision_score,f1_score\n",
    "from sklearn.svm import LinearSVC, SVC\n",
    "from sklearn.dummy import DummyClassifier\n",
    "from xgboost import XGBClassifier\n",
    "from sklearn.pipeline import Pipeline\n",
    "from sklearn.preprocessing import StandardScaler,PolynomialFeatures\n",
    "from sklearn.decomposition import PCA\n",
    "from jupyterthemes import jtplot\n",
    "jtplot.style()\n",
    "\n",
    "%matplotlib inline\n",
    "pd.options.display.max_columns = 100\n",
    "pd.options.display.max_colwidth = 400"
   ]
  },
  {
   "cell_type": "markdown",
   "metadata": {},
   "source": [
    "# Metric Functions"
   ]
  },
  {
   "cell_type": "code",
   "execution_count": 14,
   "metadata": {},
   "outputs": [],
   "source": [
    "def run_baseline(mdl, \n",
    "                 X_train, y_train, X_test, y_test,\n",
    "                 verbose=True):\n",
    "    \"\"\"Return a dict of model performance indicators.\"\"\"\n",
    "    \n",
    "    results = {}\n",
    "    \n",
    "    # 1. Fit the model on the training set\n",
    "    mdl.fit(X_train, y_train)\n",
    "\n",
    "    # 2. Predict on the training and test sets\n",
    "    y_pred_train = mdl.predict(X_train)\n",
    "    y_pred_test = mdl.predict(X_test)\n",
    "    pred_proba = mdl.predict_proba(X_test)[:,1]\n",
    "    \n",
    "    # 3. Train & test accuracy\n",
    "    results['train_accuracy'] = accuracy_score(y_train, y_pred_train)\n",
    "    results['test_accuracy'] = accuracy_score(y_test, y_pred_test)\n",
    "    results['ROC_AUC'] = roc_auc_score(y_test, pred_proba)\n",
    "    \n",
    "    if verbose:\n",
    "        print('Train Accuracy: ', results['train_accuracy'])\n",
    "        print('Test Accuracy: ', results['test_accuracy'])\n",
    "        print('\\nOrder of classes: ', mdl.classes_)\n",
    "    \n",
    "    \n",
    "    # 4. Test confusion matrix\n",
    "    confusion_df = pd.DataFrame(\\\n",
    "                        data=confusion_matrix(y_test, y_pred_test),\n",
    "                        index=[f'actual {target_class}' for target_class in mdl.classes_],\n",
    "                        columns=[f'predicted {target_class}' for target_class in mdl.classes_])\n",
    "\n",
    "    if verbose:\n",
    "        print('\\nTest Confusion Matrix: \\n', confusion_df)\n",
    "        print(classification_report(y_test, y_pred_test))\n",
    "    \n",
    "    # 5. Test recall and precision (if no samples, set recall/precision to 0)\n",
    "    \n",
    "    results['test_recall'] = recall_score(y_test, y_pred_test, \n",
    "                                          pos_label=1, zero_division=0)\n",
    "    \n",
    "    results['test_precision'] = precision_score(y_test, y_pred_test, \n",
    "                                                pos_label=1, zero_division=0)\n",
    "    results['F1'] = f1_score(y_test,y_pred_test,\n",
    "                             pos_label=1, zero_division=0)\n",
    "        \n",
    "    return results\n",
    "    \n",
    "    \n",
    "def test_models(models, X_train, y_train, X_test, y_test,\n",
    "                verbose=False):\n",
    "    \"\"\"Returns DataFrame of baseline results \n",
    "       given a dict `models` of names/sklearn models.\"\"\"\n",
    "    results = {}\n",
    "    \n",
    "    # Fit each model and store how it performs on the test set\n",
    "    for name,model in models.items():\n",
    "        if verbose:\n",
    "            print('\\nRunning {} - {}'.format(name, model))\n",
    "        \n",
    "        results[name] = run_baseline(model, \n",
    "                                     X_train, y_train, \n",
    "                                     X_test, y_test, \n",
    "                                     verbose=False)\n",
    "        if verbose:\n",
    "            print('Results: ', results[name])\n",
    "\n",
    "    return pd.DataFrame.from_dict(results, orient='index').sort_index()\n",
    "\n",
    "def metrics(y_test, y_predict, pred_proba):\n",
    "    print('Accuracy score %s ' % accuracy_score(y_test, y_predict), '\\n')\n",
    "    print('----------------------------------------------------------------')\n",
    "    print(pd.DataFrame(confusion_matrix(y_test, y_predict), \n",
    "                            index=['Predicted Down', 'Predicted Up/Unch'], \n",
    "                            columns=['Actual Down', 'Actual Up/Unch']), '\\n')\n",
    "    print('-----------------------------------------------------------------')\n",
    "    print(classification_report(y_test, y_predict))\n",
    "    print('-----------------------------------------------------------------')\n",
    "    print('ROC_AUC SCORE %s ' %roc_auc_score(y_test, pred_proba))\n",
    "    "
   ]
  },
  {
   "cell_type": "markdown",
   "metadata": {},
   "source": [
    "# Data "
   ]
  },
  {
   "cell_type": "code",
   "execution_count": 3,
   "metadata": {},
   "outputs": [
    {
     "data": {
      "text/html": [
       "<div>\n",
       "<style scoped>\n",
       "    .dataframe tbody tr th:only-of-type {\n",
       "        vertical-align: middle;\n",
       "    }\n",
       "\n",
       "    .dataframe tbody tr th {\n",
       "        vertical-align: top;\n",
       "    }\n",
       "\n",
       "    .dataframe thead th {\n",
       "        text-align: right;\n",
       "    }\n",
       "</style>\n",
       "<table border=\"1\" class=\"dataframe\">\n",
       "  <thead>\n",
       "    <tr style=\"text-align: right;\">\n",
       "      <th></th>\n",
       "      <th>Target_1d</th>\n",
       "      <th>vol%_chg1d</th>\n",
       "      <th>vol%_chg3d</th>\n",
       "      <th>vol%_chg8d</th>\n",
       "      <th>range</th>\n",
       "      <th>range%</th>\n",
       "      <th>JPY%</th>\n",
       "      <th>Close_JPY</th>\n",
       "      <th>btc_tweets</th>\n",
       "      <th>btc_activeaddresses</th>\n",
       "      <th>btc_mining_profitability</th>\n",
       "      <th>btc_transactionfees</th>\n",
       "      <th>btc_median_transaction_fee</th>\n",
       "      <th>btc_mediantransactionvalue</th>\n",
       "      <th>sub_growth_%chg</th>\n",
       "      <th>btc_gtrends</th>\n",
       "      <th>buybitcoin_gtrends</th>\n",
       "      <th>ETH_gtrends</th>\n",
       "      <th>crypto_gtrends</th>\n",
       "      <th>vol%_chg1d^2</th>\n",
       "      <th>vol%_chg1d vol%_chg3d</th>\n",
       "      <th>vol%_chg1d vol%_chg8d</th>\n",
       "      <th>vol%_chg1d range</th>\n",
       "      <th>vol%_chg1d range%</th>\n",
       "      <th>vol%_chg1d JPY%</th>\n",
       "      <th>vol%_chg1d Close_JPY</th>\n",
       "      <th>vol%_chg1d btc_tweets</th>\n",
       "      <th>vol%_chg1d btc_activeaddresses</th>\n",
       "      <th>vol%_chg1d btc_mining_profitability</th>\n",
       "      <th>vol%_chg1d btc_transactionfees</th>\n",
       "      <th>vol%_chg1d btc_median_transaction_fee</th>\n",
       "      <th>vol%_chg1d btc_mediantransactionvalue</th>\n",
       "      <th>vol%_chg1d sub_growth_%chg</th>\n",
       "      <th>vol%_chg1d btc_gtrends</th>\n",
       "      <th>vol%_chg1d buybitcoin_gtrends</th>\n",
       "      <th>vol%_chg1d ETH_gtrends</th>\n",
       "      <th>vol%_chg1d crypto_gtrends</th>\n",
       "      <th>vol%_chg3d^2</th>\n",
       "      <th>vol%_chg3d vol%_chg8d</th>\n",
       "      <th>vol%_chg3d range</th>\n",
       "      <th>vol%_chg3d range%</th>\n",
       "      <th>vol%_chg3d JPY%</th>\n",
       "      <th>vol%_chg3d Close_JPY</th>\n",
       "      <th>vol%_chg3d btc_tweets</th>\n",
       "      <th>vol%_chg3d btc_activeaddresses</th>\n",
       "      <th>vol%_chg3d btc_mining_profitability</th>\n",
       "      <th>vol%_chg3d btc_transactionfees</th>\n",
       "      <th>vol%_chg3d btc_median_transaction_fee</th>\n",
       "      <th>vol%_chg3d btc_mediantransactionvalue</th>\n",
       "      <th>vol%_chg3d sub_growth_%chg</th>\n",
       "      <th>...</th>\n",
       "      <th>btc_activeaddresses sub_growth_%chg</th>\n",
       "      <th>btc_activeaddresses btc_gtrends</th>\n",
       "      <th>btc_activeaddresses buybitcoin_gtrends</th>\n",
       "      <th>btc_activeaddresses ETH_gtrends</th>\n",
       "      <th>btc_activeaddresses crypto_gtrends</th>\n",
       "      <th>btc_mining_profitability^2</th>\n",
       "      <th>btc_mining_profitability btc_transactionfees</th>\n",
       "      <th>btc_mining_profitability btc_median_transaction_fee</th>\n",
       "      <th>btc_mining_profitability btc_mediantransactionvalue</th>\n",
       "      <th>btc_mining_profitability sub_growth_%chg</th>\n",
       "      <th>btc_mining_profitability btc_gtrends</th>\n",
       "      <th>btc_mining_profitability buybitcoin_gtrends</th>\n",
       "      <th>btc_mining_profitability ETH_gtrends</th>\n",
       "      <th>btc_mining_profitability crypto_gtrends</th>\n",
       "      <th>btc_transactionfees^2</th>\n",
       "      <th>btc_transactionfees btc_median_transaction_fee</th>\n",
       "      <th>btc_transactionfees btc_mediantransactionvalue</th>\n",
       "      <th>btc_transactionfees sub_growth_%chg</th>\n",
       "      <th>btc_transactionfees btc_gtrends</th>\n",
       "      <th>btc_transactionfees buybitcoin_gtrends</th>\n",
       "      <th>btc_transactionfees ETH_gtrends</th>\n",
       "      <th>btc_transactionfees crypto_gtrends</th>\n",
       "      <th>btc_median_transaction_fee^2</th>\n",
       "      <th>btc_median_transaction_fee btc_mediantransactionvalue</th>\n",
       "      <th>btc_median_transaction_fee sub_growth_%chg</th>\n",
       "      <th>btc_median_transaction_fee btc_gtrends</th>\n",
       "      <th>btc_median_transaction_fee buybitcoin_gtrends</th>\n",
       "      <th>btc_median_transaction_fee ETH_gtrends</th>\n",
       "      <th>btc_median_transaction_fee crypto_gtrends</th>\n",
       "      <th>btc_mediantransactionvalue^2</th>\n",
       "      <th>btc_mediantransactionvalue sub_growth_%chg</th>\n",
       "      <th>btc_mediantransactionvalue btc_gtrends</th>\n",
       "      <th>btc_mediantransactionvalue buybitcoin_gtrends</th>\n",
       "      <th>btc_mediantransactionvalue ETH_gtrends</th>\n",
       "      <th>btc_mediantransactionvalue crypto_gtrends</th>\n",
       "      <th>sub_growth_%chg^2</th>\n",
       "      <th>sub_growth_%chg btc_gtrends</th>\n",
       "      <th>sub_growth_%chg buybitcoin_gtrends</th>\n",
       "      <th>sub_growth_%chg ETH_gtrends</th>\n",
       "      <th>sub_growth_%chg crypto_gtrends</th>\n",
       "      <th>btc_gtrends^2</th>\n",
       "      <th>btc_gtrends buybitcoin_gtrends</th>\n",
       "      <th>btc_gtrends ETH_gtrends</th>\n",
       "      <th>btc_gtrends crypto_gtrends</th>\n",
       "      <th>buybitcoin_gtrends^2</th>\n",
       "      <th>buybitcoin_gtrends ETH_gtrends</th>\n",
       "      <th>buybitcoin_gtrends crypto_gtrends</th>\n",
       "      <th>ETH_gtrends^2</th>\n",
       "      <th>ETH_gtrends crypto_gtrends</th>\n",
       "      <th>crypto_gtrends^2</th>\n",
       "    </tr>\n",
       "    <tr>\n",
       "      <th>Date</th>\n",
       "      <th></th>\n",
       "      <th></th>\n",
       "      <th></th>\n",
       "      <th></th>\n",
       "      <th></th>\n",
       "      <th></th>\n",
       "      <th></th>\n",
       "      <th></th>\n",
       "      <th></th>\n",
       "      <th></th>\n",
       "      <th></th>\n",
       "      <th></th>\n",
       "      <th></th>\n",
       "      <th></th>\n",
       "      <th></th>\n",
       "      <th></th>\n",
       "      <th></th>\n",
       "      <th></th>\n",
       "      <th></th>\n",
       "      <th></th>\n",
       "      <th></th>\n",
       "      <th></th>\n",
       "      <th></th>\n",
       "      <th></th>\n",
       "      <th></th>\n",
       "      <th></th>\n",
       "      <th></th>\n",
       "      <th></th>\n",
       "      <th></th>\n",
       "      <th></th>\n",
       "      <th></th>\n",
       "      <th></th>\n",
       "      <th></th>\n",
       "      <th></th>\n",
       "      <th></th>\n",
       "      <th></th>\n",
       "      <th></th>\n",
       "      <th></th>\n",
       "      <th></th>\n",
       "      <th></th>\n",
       "      <th></th>\n",
       "      <th></th>\n",
       "      <th></th>\n",
       "      <th></th>\n",
       "      <th></th>\n",
       "      <th></th>\n",
       "      <th></th>\n",
       "      <th></th>\n",
       "      <th></th>\n",
       "      <th></th>\n",
       "      <th></th>\n",
       "      <th></th>\n",
       "      <th></th>\n",
       "      <th></th>\n",
       "      <th></th>\n",
       "      <th></th>\n",
       "      <th></th>\n",
       "      <th></th>\n",
       "      <th></th>\n",
       "      <th></th>\n",
       "      <th></th>\n",
       "      <th></th>\n",
       "      <th></th>\n",
       "      <th></th>\n",
       "      <th></th>\n",
       "      <th></th>\n",
       "      <th></th>\n",
       "      <th></th>\n",
       "      <th></th>\n",
       "      <th></th>\n",
       "      <th></th>\n",
       "      <th></th>\n",
       "      <th></th>\n",
       "      <th></th>\n",
       "      <th></th>\n",
       "      <th></th>\n",
       "      <th></th>\n",
       "      <th></th>\n",
       "      <th></th>\n",
       "      <th></th>\n",
       "      <th></th>\n",
       "      <th></th>\n",
       "      <th></th>\n",
       "      <th></th>\n",
       "      <th></th>\n",
       "      <th></th>\n",
       "      <th></th>\n",
       "      <th></th>\n",
       "      <th></th>\n",
       "      <th></th>\n",
       "      <th></th>\n",
       "      <th></th>\n",
       "      <th></th>\n",
       "      <th></th>\n",
       "      <th></th>\n",
       "      <th></th>\n",
       "      <th></th>\n",
       "      <th></th>\n",
       "      <th></th>\n",
       "      <th></th>\n",
       "      <th></th>\n",
       "    </tr>\n",
       "  </thead>\n",
       "  <tbody>\n",
       "    <tr>\n",
       "      <th>2017-12-31</th>\n",
       "      <td>0.0</td>\n",
       "      <td>0.160589</td>\n",
       "      <td>-0.227634</td>\n",
       "      <td>0.517258</td>\n",
       "      <td>1.163969</td>\n",
       "      <td>0.065188</td>\n",
       "      <td>0.000923</td>\n",
       "      <td>112.769997</td>\n",
       "      <td>64989.0</td>\n",
       "      <td>847972.0</td>\n",
       "      <td>2.281</td>\n",
       "      <td>25.170</td>\n",
       "      <td>15.291</td>\n",
       "      <td>2182.0</td>\n",
       "      <td>0.007039</td>\n",
       "      <td>48.214286</td>\n",
       "      <td>0.0</td>\n",
       "      <td>1.295976</td>\n",
       "      <td>6.291338</td>\n",
       "      <td>0.025789</td>\n",
       "      <td>-0.036555</td>\n",
       "      <td>0.083066</td>\n",
       "      <td>0.18692</td>\n",
       "      <td>0.010468</td>\n",
       "      <td>0.000148</td>\n",
       "      <td>18.10958</td>\n",
       "      <td>10436.494994</td>\n",
       "      <td>136174.668533</td>\n",
       "      <td>0.366303</td>\n",
       "      <td>4.042016</td>\n",
       "      <td>2.455561</td>\n",
       "      <td>350.404408</td>\n",
       "      <td>0.001130</td>\n",
       "      <td>7.742666</td>\n",
       "      <td>0.0</td>\n",
       "      <td>0.208119</td>\n",
       "      <td>1.010317</td>\n",
       "      <td>0.051817</td>\n",
       "      <td>-0.117746</td>\n",
       "      <td>-0.264959</td>\n",
       "      <td>-0.014839</td>\n",
       "      <td>-0.00021</td>\n",
       "      <td>-25.670286</td>\n",
       "      <td>-14793.706235</td>\n",
       "      <td>-193027.260974</td>\n",
       "      <td>-0.519233</td>\n",
       "      <td>-5.729548</td>\n",
       "      <td>-3.480752</td>\n",
       "      <td>-496.697395</td>\n",
       "      <td>-0.001602</td>\n",
       "      <td>...</td>\n",
       "      <td>5968.591707</td>\n",
       "      <td>4.088436e+07</td>\n",
       "      <td>0.0</td>\n",
       "      <td>1.098951e+06</td>\n",
       "      <td>5.334878e+06</td>\n",
       "      <td>5.202961</td>\n",
       "      <td>57.412770</td>\n",
       "      <td>34.878771</td>\n",
       "      <td>4977.142</td>\n",
       "      <td>0.016055</td>\n",
       "      <td>109.976786</td>\n",
       "      <td>0.0</td>\n",
       "      <td>2.956122</td>\n",
       "      <td>14.350541</td>\n",
       "      <td>633.528900</td>\n",
       "      <td>384.87447</td>\n",
       "      <td>54920.940</td>\n",
       "      <td>0.177163</td>\n",
       "      <td>1213.553571</td>\n",
       "      <td>0.0</td>\n",
       "      <td>32.619719</td>\n",
       "      <td>158.352968</td>\n",
       "      <td>233.814681</td>\n",
       "      <td>33364.962</td>\n",
       "      <td>0.107628</td>\n",
       "      <td>737.244643</td>\n",
       "      <td>0.0</td>\n",
       "      <td>19.816771</td>\n",
       "      <td>96.200844</td>\n",
       "      <td>4761124.0</td>\n",
       "      <td>15.358369</td>\n",
       "      <td>105203.571429</td>\n",
       "      <td>0.0</td>\n",
       "      <td>2827.819880</td>\n",
       "      <td>13727.698692</td>\n",
       "      <td>0.000050</td>\n",
       "      <td>0.339364</td>\n",
       "      <td>0.0</td>\n",
       "      <td>0.009122</td>\n",
       "      <td>0.044283</td>\n",
       "      <td>2324.617347</td>\n",
       "      <td>0.0</td>\n",
       "      <td>62.484563</td>\n",
       "      <td>303.332350</td>\n",
       "      <td>0.0</td>\n",
       "      <td>0.0</td>\n",
       "      <td>0.0</td>\n",
       "      <td>1.679554</td>\n",
       "      <td>8.153423</td>\n",
       "      <td>39.580929</td>\n",
       "    </tr>\n",
       "    <tr>\n",
       "      <th>2018-01-01</th>\n",
       "      <td>0.0</td>\n",
       "      <td>0.160589</td>\n",
       "      <td>-0.227634</td>\n",
       "      <td>0.517258</td>\n",
       "      <td>1.163969</td>\n",
       "      <td>0.065188</td>\n",
       "      <td>0.000923</td>\n",
       "      <td>112.769997</td>\n",
       "      <td>62044.0</td>\n",
       "      <td>842391.0</td>\n",
       "      <td>2.174</td>\n",
       "      <td>26.274</td>\n",
       "      <td>14.625</td>\n",
       "      <td>2104.0</td>\n",
       "      <td>0.007324</td>\n",
       "      <td>46.428571</td>\n",
       "      <td>0.0</td>\n",
       "      <td>1.295976</td>\n",
       "      <td>6.291338</td>\n",
       "      <td>0.025789</td>\n",
       "      <td>-0.036555</td>\n",
       "      <td>0.083066</td>\n",
       "      <td>0.18692</td>\n",
       "      <td>0.010468</td>\n",
       "      <td>0.000148</td>\n",
       "      <td>18.10958</td>\n",
       "      <td>9963.561455</td>\n",
       "      <td>135278.423344</td>\n",
       "      <td>0.349120</td>\n",
       "      <td>4.219306</td>\n",
       "      <td>2.348609</td>\n",
       "      <td>337.878494</td>\n",
       "      <td>0.001176</td>\n",
       "      <td>7.455901</td>\n",
       "      <td>0.0</td>\n",
       "      <td>0.208119</td>\n",
       "      <td>1.010317</td>\n",
       "      <td>0.051817</td>\n",
       "      <td>-0.117746</td>\n",
       "      <td>-0.264959</td>\n",
       "      <td>-0.014839</td>\n",
       "      <td>-0.00021</td>\n",
       "      <td>-25.670286</td>\n",
       "      <td>-14123.324095</td>\n",
       "      <td>-191756.835602</td>\n",
       "      <td>-0.494876</td>\n",
       "      <td>-5.980856</td>\n",
       "      <td>-3.329147</td>\n",
       "      <td>-478.941943</td>\n",
       "      <td>-0.001667</td>\n",
       "      <td>...</td>\n",
       "      <td>6169.955598</td>\n",
       "      <td>3.911101e+07</td>\n",
       "      <td>0.0</td>\n",
       "      <td>1.091719e+06</td>\n",
       "      <td>5.299766e+06</td>\n",
       "      <td>4.726276</td>\n",
       "      <td>57.119676</td>\n",
       "      <td>31.794750</td>\n",
       "      <td>4574.096</td>\n",
       "      <td>0.015923</td>\n",
       "      <td>100.935714</td>\n",
       "      <td>0.0</td>\n",
       "      <td>2.817452</td>\n",
       "      <td>13.677368</td>\n",
       "      <td>690.323076</td>\n",
       "      <td>384.25725</td>\n",
       "      <td>55280.496</td>\n",
       "      <td>0.192440</td>\n",
       "      <td>1219.864286</td>\n",
       "      <td>0.0</td>\n",
       "      <td>34.050476</td>\n",
       "      <td>165.298605</td>\n",
       "      <td>213.890625</td>\n",
       "      <td>30771.000</td>\n",
       "      <td>0.107118</td>\n",
       "      <td>679.017857</td>\n",
       "      <td>0.0</td>\n",
       "      <td>18.953651</td>\n",
       "      <td>92.010813</td>\n",
       "      <td>4426816.0</td>\n",
       "      <td>15.410405</td>\n",
       "      <td>97685.714286</td>\n",
       "      <td>0.0</td>\n",
       "      <td>2726.733744</td>\n",
       "      <td>13236.974358</td>\n",
       "      <td>0.000054</td>\n",
       "      <td>0.340059</td>\n",
       "      <td>0.0</td>\n",
       "      <td>0.009492</td>\n",
       "      <td>0.046080</td>\n",
       "      <td>2155.612245</td>\n",
       "      <td>0.0</td>\n",
       "      <td>60.170320</td>\n",
       "      <td>292.097818</td>\n",
       "      <td>0.0</td>\n",
       "      <td>0.0</td>\n",
       "      <td>0.0</td>\n",
       "      <td>1.679554</td>\n",
       "      <td>8.153423</td>\n",
       "      <td>39.580929</td>\n",
       "    </tr>\n",
       "  </tbody>\n",
       "</table>\n",
       "<p>2 rows × 190 columns</p>\n",
       "</div>"
      ],
      "text/plain": [
       "            Target_1d  vol%_chg1d  vol%_chg3d  vol%_chg8d     range    range%  \\\n",
       "Date                                                                            \n",
       "2017-12-31        0.0    0.160589   -0.227634    0.517258  1.163969  0.065188   \n",
       "2018-01-01        0.0    0.160589   -0.227634    0.517258  1.163969  0.065188   \n",
       "\n",
       "                JPY%   Close_JPY  btc_tweets  btc_activeaddresses  \\\n",
       "Date                                                                \n",
       "2017-12-31  0.000923  112.769997     64989.0             847972.0   \n",
       "2018-01-01  0.000923  112.769997     62044.0             842391.0   \n",
       "\n",
       "            btc_mining_profitability  btc_transactionfees  \\\n",
       "Date                                                        \n",
       "2017-12-31                     2.281               25.170   \n",
       "2018-01-01                     2.174               26.274   \n",
       "\n",
       "            btc_median_transaction_fee  btc_mediantransactionvalue  \\\n",
       "Date                                                                 \n",
       "2017-12-31                      15.291                      2182.0   \n",
       "2018-01-01                      14.625                      2104.0   \n",
       "\n",
       "            sub_growth_%chg  btc_gtrends  buybitcoin_gtrends  ETH_gtrends  \\\n",
       "Date                                                                        \n",
       "2017-12-31         0.007039    48.214286                 0.0     1.295976   \n",
       "2018-01-01         0.007324    46.428571                 0.0     1.295976   \n",
       "\n",
       "            crypto_gtrends  vol%_chg1d^2  vol%_chg1d vol%_chg3d  \\\n",
       "Date                                                              \n",
       "2017-12-31        6.291338      0.025789              -0.036555   \n",
       "2018-01-01        6.291338      0.025789              -0.036555   \n",
       "\n",
       "            vol%_chg1d vol%_chg8d  vol%_chg1d range  vol%_chg1d range%  \\\n",
       "Date                                                                     \n",
       "2017-12-31               0.083066           0.18692           0.010468   \n",
       "2018-01-01               0.083066           0.18692           0.010468   \n",
       "\n",
       "            vol%_chg1d JPY%  vol%_chg1d Close_JPY  vol%_chg1d btc_tweets  \\\n",
       "Date                                                                       \n",
       "2017-12-31         0.000148              18.10958           10436.494994   \n",
       "2018-01-01         0.000148              18.10958            9963.561455   \n",
       "\n",
       "            vol%_chg1d btc_activeaddresses  \\\n",
       "Date                                         \n",
       "2017-12-31                   136174.668533   \n",
       "2018-01-01                   135278.423344   \n",
       "\n",
       "            vol%_chg1d btc_mining_profitability  \\\n",
       "Date                                              \n",
       "2017-12-31                             0.366303   \n",
       "2018-01-01                             0.349120   \n",
       "\n",
       "            vol%_chg1d btc_transactionfees  \\\n",
       "Date                                         \n",
       "2017-12-31                        4.042016   \n",
       "2018-01-01                        4.219306   \n",
       "\n",
       "            vol%_chg1d btc_median_transaction_fee  \\\n",
       "Date                                                \n",
       "2017-12-31                               2.455561   \n",
       "2018-01-01                               2.348609   \n",
       "\n",
       "            vol%_chg1d btc_mediantransactionvalue  vol%_chg1d sub_growth_%chg  \\\n",
       "Date                                                                            \n",
       "2017-12-31                             350.404408                    0.001130   \n",
       "2018-01-01                             337.878494                    0.001176   \n",
       "\n",
       "            vol%_chg1d btc_gtrends  vol%_chg1d buybitcoin_gtrends  \\\n",
       "Date                                                                \n",
       "2017-12-31                7.742666                            0.0   \n",
       "2018-01-01                7.455901                            0.0   \n",
       "\n",
       "            vol%_chg1d ETH_gtrends  vol%_chg1d crypto_gtrends  vol%_chg3d^2  \\\n",
       "Date                                                                          \n",
       "2017-12-31                0.208119                   1.010317      0.051817   \n",
       "2018-01-01                0.208119                   1.010317      0.051817   \n",
       "\n",
       "            vol%_chg3d vol%_chg8d  vol%_chg3d range  vol%_chg3d range%  \\\n",
       "Date                                                                     \n",
       "2017-12-31              -0.117746         -0.264959          -0.014839   \n",
       "2018-01-01              -0.117746         -0.264959          -0.014839   \n",
       "\n",
       "            vol%_chg3d JPY%  vol%_chg3d Close_JPY  vol%_chg3d btc_tweets  \\\n",
       "Date                                                                       \n",
       "2017-12-31         -0.00021            -25.670286          -14793.706235   \n",
       "2018-01-01         -0.00021            -25.670286          -14123.324095   \n",
       "\n",
       "            vol%_chg3d btc_activeaddresses  \\\n",
       "Date                                         \n",
       "2017-12-31                  -193027.260974   \n",
       "2018-01-01                  -191756.835602   \n",
       "\n",
       "            vol%_chg3d btc_mining_profitability  \\\n",
       "Date                                              \n",
       "2017-12-31                            -0.519233   \n",
       "2018-01-01                            -0.494876   \n",
       "\n",
       "            vol%_chg3d btc_transactionfees  \\\n",
       "Date                                         \n",
       "2017-12-31                       -5.729548   \n",
       "2018-01-01                       -5.980856   \n",
       "\n",
       "            vol%_chg3d btc_median_transaction_fee  \\\n",
       "Date                                                \n",
       "2017-12-31                              -3.480752   \n",
       "2018-01-01                              -3.329147   \n",
       "\n",
       "            vol%_chg3d btc_mediantransactionvalue  vol%_chg3d sub_growth_%chg  \\\n",
       "Date                                                                            \n",
       "2017-12-31                            -496.697395                   -0.001602   \n",
       "2018-01-01                            -478.941943                   -0.001667   \n",
       "\n",
       "            ...  btc_activeaddresses sub_growth_%chg  \\\n",
       "Date        ...                                        \n",
       "2017-12-31  ...                          5968.591707   \n",
       "2018-01-01  ...                          6169.955598   \n",
       "\n",
       "            btc_activeaddresses btc_gtrends  \\\n",
       "Date                                          \n",
       "2017-12-31                     4.088436e+07   \n",
       "2018-01-01                     3.911101e+07   \n",
       "\n",
       "            btc_activeaddresses buybitcoin_gtrends  \\\n",
       "Date                                                 \n",
       "2017-12-31                                     0.0   \n",
       "2018-01-01                                     0.0   \n",
       "\n",
       "            btc_activeaddresses ETH_gtrends  \\\n",
       "Date                                          \n",
       "2017-12-31                     1.098951e+06   \n",
       "2018-01-01                     1.091719e+06   \n",
       "\n",
       "            btc_activeaddresses crypto_gtrends  btc_mining_profitability^2  \\\n",
       "Date                                                                         \n",
       "2017-12-31                        5.334878e+06                    5.202961   \n",
       "2018-01-01                        5.299766e+06                    4.726276   \n",
       "\n",
       "            btc_mining_profitability btc_transactionfees  \\\n",
       "Date                                                       \n",
       "2017-12-31                                     57.412770   \n",
       "2018-01-01                                     57.119676   \n",
       "\n",
       "            btc_mining_profitability btc_median_transaction_fee  \\\n",
       "Date                                                              \n",
       "2017-12-31                                            34.878771   \n",
       "2018-01-01                                            31.794750   \n",
       "\n",
       "            btc_mining_profitability btc_mediantransactionvalue  \\\n",
       "Date                                                              \n",
       "2017-12-31                                             4977.142   \n",
       "2018-01-01                                             4574.096   \n",
       "\n",
       "            btc_mining_profitability sub_growth_%chg  \\\n",
       "Date                                                   \n",
       "2017-12-31                                  0.016055   \n",
       "2018-01-01                                  0.015923   \n",
       "\n",
       "            btc_mining_profitability btc_gtrends  \\\n",
       "Date                                               \n",
       "2017-12-31                            109.976786   \n",
       "2018-01-01                            100.935714   \n",
       "\n",
       "            btc_mining_profitability buybitcoin_gtrends  \\\n",
       "Date                                                      \n",
       "2017-12-31                                          0.0   \n",
       "2018-01-01                                          0.0   \n",
       "\n",
       "            btc_mining_profitability ETH_gtrends  \\\n",
       "Date                                               \n",
       "2017-12-31                              2.956122   \n",
       "2018-01-01                              2.817452   \n",
       "\n",
       "            btc_mining_profitability crypto_gtrends  btc_transactionfees^2  \\\n",
       "Date                                                                         \n",
       "2017-12-31                                14.350541             633.528900   \n",
       "2018-01-01                                13.677368             690.323076   \n",
       "\n",
       "            btc_transactionfees btc_median_transaction_fee  \\\n",
       "Date                                                         \n",
       "2017-12-31                                       384.87447   \n",
       "2018-01-01                                       384.25725   \n",
       "\n",
       "            btc_transactionfees btc_mediantransactionvalue  \\\n",
       "Date                                                         \n",
       "2017-12-31                                       54920.940   \n",
       "2018-01-01                                       55280.496   \n",
       "\n",
       "            btc_transactionfees sub_growth_%chg  \\\n",
       "Date                                              \n",
       "2017-12-31                             0.177163   \n",
       "2018-01-01                             0.192440   \n",
       "\n",
       "            btc_transactionfees btc_gtrends  \\\n",
       "Date                                          \n",
       "2017-12-31                      1213.553571   \n",
       "2018-01-01                      1219.864286   \n",
       "\n",
       "            btc_transactionfees buybitcoin_gtrends  \\\n",
       "Date                                                 \n",
       "2017-12-31                                     0.0   \n",
       "2018-01-01                                     0.0   \n",
       "\n",
       "            btc_transactionfees ETH_gtrends  \\\n",
       "Date                                          \n",
       "2017-12-31                        32.619719   \n",
       "2018-01-01                        34.050476   \n",
       "\n",
       "            btc_transactionfees crypto_gtrends  btc_median_transaction_fee^2  \\\n",
       "Date                                                                           \n",
       "2017-12-31                          158.352968                    233.814681   \n",
       "2018-01-01                          165.298605                    213.890625   \n",
       "\n",
       "            btc_median_transaction_fee btc_mediantransactionvalue  \\\n",
       "Date                                                                \n",
       "2017-12-31                                              33364.962   \n",
       "2018-01-01                                              30771.000   \n",
       "\n",
       "            btc_median_transaction_fee sub_growth_%chg  \\\n",
       "Date                                                     \n",
       "2017-12-31                                    0.107628   \n",
       "2018-01-01                                    0.107118   \n",
       "\n",
       "            btc_median_transaction_fee btc_gtrends  \\\n",
       "Date                                                 \n",
       "2017-12-31                              737.244643   \n",
       "2018-01-01                              679.017857   \n",
       "\n",
       "            btc_median_transaction_fee buybitcoin_gtrends  \\\n",
       "Date                                                        \n",
       "2017-12-31                                            0.0   \n",
       "2018-01-01                                            0.0   \n",
       "\n",
       "            btc_median_transaction_fee ETH_gtrends  \\\n",
       "Date                                                 \n",
       "2017-12-31                               19.816771   \n",
       "2018-01-01                               18.953651   \n",
       "\n",
       "            btc_median_transaction_fee crypto_gtrends  \\\n",
       "Date                                                    \n",
       "2017-12-31                                  96.200844   \n",
       "2018-01-01                                  92.010813   \n",
       "\n",
       "            btc_mediantransactionvalue^2  \\\n",
       "Date                                       \n",
       "2017-12-31                     4761124.0   \n",
       "2018-01-01                     4426816.0   \n",
       "\n",
       "            btc_mediantransactionvalue sub_growth_%chg  \\\n",
       "Date                                                     \n",
       "2017-12-31                                   15.358369   \n",
       "2018-01-01                                   15.410405   \n",
       "\n",
       "            btc_mediantransactionvalue btc_gtrends  \\\n",
       "Date                                                 \n",
       "2017-12-31                           105203.571429   \n",
       "2018-01-01                            97685.714286   \n",
       "\n",
       "            btc_mediantransactionvalue buybitcoin_gtrends  \\\n",
       "Date                                                        \n",
       "2017-12-31                                            0.0   \n",
       "2018-01-01                                            0.0   \n",
       "\n",
       "            btc_mediantransactionvalue ETH_gtrends  \\\n",
       "Date                                                 \n",
       "2017-12-31                             2827.819880   \n",
       "2018-01-01                             2726.733744   \n",
       "\n",
       "            btc_mediantransactionvalue crypto_gtrends  sub_growth_%chg^2  \\\n",
       "Date                                                                       \n",
       "2017-12-31                               13727.698692           0.000050   \n",
       "2018-01-01                               13236.974358           0.000054   \n",
       "\n",
       "            sub_growth_%chg btc_gtrends  sub_growth_%chg buybitcoin_gtrends  \\\n",
       "Date                                                                          \n",
       "2017-12-31                     0.339364                                 0.0   \n",
       "2018-01-01                     0.340059                                 0.0   \n",
       "\n",
       "            sub_growth_%chg ETH_gtrends  sub_growth_%chg crypto_gtrends  \\\n",
       "Date                                                                      \n",
       "2017-12-31                     0.009122                        0.044283   \n",
       "2018-01-01                     0.009492                        0.046080   \n",
       "\n",
       "            btc_gtrends^2  btc_gtrends buybitcoin_gtrends  \\\n",
       "Date                                                        \n",
       "2017-12-31    2324.617347                             0.0   \n",
       "2018-01-01    2155.612245                             0.0   \n",
       "\n",
       "            btc_gtrends ETH_gtrends  btc_gtrends crypto_gtrends  \\\n",
       "Date                                                              \n",
       "2017-12-31                62.484563                  303.332350   \n",
       "2018-01-01                60.170320                  292.097818   \n",
       "\n",
       "            buybitcoin_gtrends^2  buybitcoin_gtrends ETH_gtrends  \\\n",
       "Date                                                               \n",
       "2017-12-31                   0.0                             0.0   \n",
       "2018-01-01                   0.0                             0.0   \n",
       "\n",
       "            buybitcoin_gtrends crypto_gtrends  ETH_gtrends^2  \\\n",
       "Date                                                           \n",
       "2017-12-31                                0.0       1.679554   \n",
       "2018-01-01                                0.0       1.679554   \n",
       "\n",
       "            ETH_gtrends crypto_gtrends  crypto_gtrends^2  \n",
       "Date                                                      \n",
       "2017-12-31                    8.153423         39.580929  \n",
       "2018-01-01                    8.153423         39.580929  \n",
       "\n",
       "[2 rows x 190 columns]"
      ]
     },
     "execution_count": 3,
     "metadata": {},
     "output_type": "execute_result"
    }
   ],
   "source": [
    "# Bring in data\n",
    "path = '../thecap/Data/polyfeatures.csv'\n",
    "df = pd.read_csv(path, index_col='Date', parse_dates=True)\n",
    "df.head(2) "
   ]
  },
  {
   "cell_type": "markdown",
   "metadata": {},
   "source": [
    "# Train Test Split\n"
   ]
  },
  {
   "cell_type": "code",
   "execution_count": 4,
   "metadata": {},
   "outputs": [],
   "source": [
    "X = df._get_numeric_data().drop(columns=['Target_1d'])\n",
    "y = df['Target_1d']\n",
    "features = list(X.columns)\n",
    "\n",
    "X_train, X_test, y_train, y_test = train_test_split(X,\n",
    "                                                    y,\n",
    "                                                    test_size = 0.15,\n",
    "                                                    stratify = y,\n",
    "                                                    random_state = 42)"
   ]
  },
  {
   "cell_type": "markdown",
   "metadata": {},
   "source": [
    "# Null Model"
   ]
  },
  {
   "cell_type": "code",
   "execution_count": 347,
   "metadata": {},
   "outputs": [
    {
     "name": "stdout",
     "output_type": "stream",
     "text": [
      "Train Accuracy:  0.5214050493962679\n",
      "Test Accuracy:  0.5217391304347826\n"
     ]
    }
   ],
   "source": [
    "dc = DummyClassifier(strategy='most_frequent')\n",
    "dc.fit(X_train, y_train)\n",
    "\n",
    "y_pred_train = dc.predict(X_train)\n",
    "y_pred_test = dc.predict(X_test)\n",
    "\n",
    "print('Train Accuracy: ', accuracy_score(y_train, y_pred_train))\n",
    "print('Test Accuracy: ', accuracy_score(y_test, y_pred_test))"
   ]
  },
  {
   "cell_type": "markdown",
   "metadata": {},
   "source": [
    "# SVM Pipeline"
   ]
  },
  {
   "cell_type": "code",
   "execution_count": 16,
   "metadata": {},
   "outputs": [],
   "source": [
    "pipe = Pipeline([\n",
    "    ('ss', StandardScaler()),\n",
    "    ('pca', PCA()),\n",
    "    ('SVC', SVC(probability=True,random_state=42))\n",
    "    ])\n",
    "\n",
    "params = {'pca__n_components': [3, 10, 15, 20, 30, 50],\n",
    "          'SVC__gamma': [1e-5, 1e-4, 1e-3, 1e-2],\n",
    "          'SVC__C' : [1e-5, 1e-3, 1e-2, 1e-1],\n",
    "          'SVC__kernel': ['linear', 'poly', 'rbf', 'sigmoid'],\n",
    "          'SVC__class_weight' : ['balanced', None],\n",
    "          'SVC__shrinking' : [True, False]\n",
    "          }\n",
    "\n",
    "cv_folds = StratifiedKFold(n_splits=10,shuffle=True,random_state=42)\n",
    "\n",
    "gs = GridSearchCV(pipe, params, cv=cv_folds,n_splits=10, scoring='accuracy')\n",
    "\n",
    "# Fit\n",
    "gs.fit(X_train, y_train)\n",
    "\n",
    "preds = gs.predict(X_test)\n",
    "\n",
    "pred_proba = gs.predict_proba(X_test)[:,1]"
   ]
  },
  {
   "cell_type": "code",
   "execution_count": 17,
   "metadata": {},
   "outputs": [
    {
     "data": {
      "text/plain": [
       "1.0    0.521739\n",
       "0.0    0.478261\n",
       "Name: Target_1d, dtype: float64"
      ]
     },
     "execution_count": 17,
     "metadata": {},
     "output_type": "execute_result"
    }
   ],
   "source": [
    "#Base Line\n",
    "y_test.value_counts(normalize=True)"
   ]
  },
  {
   "cell_type": "code",
   "execution_count": null,
   "metadata": {},
   "outputs": [],
   "source": []
  },
  {
   "cell_type": "code",
   "execution_count": 19,
   "metadata": {},
   "outputs": [
    {
     "data": {
      "text/plain": [
       "0.5543541196224885"
      ]
     },
     "execution_count": 19,
     "metadata": {},
     "output_type": "execute_result"
    }
   ],
   "source": [
    "gs.best_score_"
   ]
  },
  {
   "cell_type": "code",
   "execution_count": 20,
   "metadata": {},
   "outputs": [
    {
     "data": {
      "text/plain": [
       "(0.7233809001097695, 0.4906832298136646)"
      ]
     },
     "execution_count": 20,
     "metadata": {},
     "output_type": "execute_result"
    }
   ],
   "source": [
    "gs.score(X_train,y_train) , gs.score(X_test,y_test)"
   ]
  },
  {
   "cell_type": "code",
   "execution_count": 21,
   "metadata": {},
   "outputs": [
    {
     "name": "stdout",
     "output_type": "stream",
     "text": [
      "Accuracy score 0.4906832298136646  \n",
      "\n",
      "----------------------------------------------------------------\n",
      "                   Actual Down  Actual Up/Unch\n",
      "Predicted Down              25              52\n",
      "Predicted Up/Unch           30              54 \n",
      "\n",
      "-----------------------------------------------------------------\n",
      "              precision    recall  f1-score   support\n",
      "\n",
      "         0.0       0.45      0.32      0.38        77\n",
      "         1.0       0.51      0.64      0.57        84\n",
      "\n",
      "    accuracy                           0.49       161\n",
      "   macro avg       0.48      0.48      0.47       161\n",
      "weighted avg       0.48      0.49      0.48       161\n",
      "\n",
      "-----------------------------------------------------------------\n",
      "ROC_AUC SCORE 0.4817563388991961 \n"
     ]
    }
   ],
   "source": [
    "metrics(y_test, preds, pred_proba)"
   ]
  },
  {
   "cell_type": "code",
   "execution_count": 22,
   "metadata": {},
   "outputs": [
    {
     "data": {
      "image/png": "[encoded data removed]",
      "text/plain": [
       "<Figure size 432x288 with 2 Axes>"
      ]
     },
     "metadata": {
      "needs_background": "dark"
     },
     "output_type": "display_data"
    }
   ],
   "source": [
    "plot_confusion_matrix(gs, X_test, y_test, cmap='Blues', \n",
    "                      values_format='d', display_labels=['Down', 'Up/Sideways']);"
   ]
  },
  {
   "cell_type": "code",
   "execution_count": 23,
   "metadata": {},
   "outputs": [
    {
     "data": {
      "image/png": "[encoded data removed]",
      "text/plain": [
       "<Figure size 432x288 with 1 Axes>"
      ]
     },
     "metadata": {
      "needs_background": "dark"
     },
     "output_type": "display_data"
    }
   ],
   "source": [
    "plot_roc_curve(gs, X_test, y_test)\n",
    "plt.plot([0, 1], [0, 1],\n",
    "         label='baseline', linestyle='--')\n",
    "plt.legend();"
   ]
  },
  {
   "cell_type": "markdown",
   "metadata": {},
   "source": [
    "# XGB Pipeline"
   ]
  },
  {
   "cell_type": "code",
   "execution_count": 26,
   "metadata": {},
   "outputs": [
    {
     "data": {
      "text/plain": [
       "dict_keys(['objective', 'base_score', 'booster', 'colsample_bylevel', 'colsample_bynode', 'colsample_bytree', 'gamma', 'gpu_id', 'importance_type', 'interaction_constraints', 'learning_rate', 'max_delta_step', 'max_depth', 'min_child_weight', 'missing', 'monotone_constraints', 'n_estimators', 'n_jobs', 'num_parallel_tree', 'random_state', 'reg_alpha', 'reg_lambda', 'scale_pos_weight', 'subsample', 'tree_method', 'validate_parameters', 'verbosity'])"
      ]
     },
     "execution_count": 26,
     "metadata": {},
     "output_type": "execute_result"
    }
   ],
   "source": [
    "XGBClassifier().get_params().keys()"
   ]
  },
  {
   "cell_type": "code",
   "execution_count": 89,
   "metadata": {},
   "outputs": [],
   "source": [
    "pipe2 = Pipeline([\n",
    "    ('ss', StandardScaler()),\n",
    "    ('pca', PCA()),\n",
    "    ('XGB', XGBClassifier(seed=21,tree_method = \"exact\",eval_metric = [\"auc\",'error','map'], \n",
    "                          objective = \"binary:logistic\"))])\n",
    "\n",
    "params2 = { 'pca__n_components': [5, 10, 15, 35, 80, 100],\n",
    "            \"XGB__learning_rate\": [0.3, 0.1, 0.05, 0.01, 0.0033, 0.0011, 0.001],\n",
    "            \"XGB__gamma\" : [0.01, 0.1, 0.3, 0.5, 1, 1.5, 2],\n",
    "            \"XGB__max_depth\": [2, 4, 8, 10],\n",
    "            \"XGB__colsample_bytree\": [0.2, 0.6, 0.8, 1.0],\n",
    "            \"XGB__subsample\": [0.3, 0.4, 0.5, 0.6, 0.7],\n",
    "            \"XGB__reg_alpha\": [0.1, 0.3, 0.5, 1],\n",
    "            \"XGB__reg_lambda\": [1, 1.5, 2, 3, 4.5],\n",
    "            \"XGB__min_child_weight\": [1, 2, 4, 8, 10 ,15],\n",
    "            \"XGB__n_estimators\": [100, 250, 500, 1000]}\n",
    "\n",
    "cv_folds2 = StratifiedKFold(n_splits=8,shuffle=True,random_state=42)\n",
    "\n",
    "# Create RandomizedSearchCV Object\n",
    "rs = RandomizedSearchCV(pipe2, params2, n_iter=8, cv=cv_folds2, scoring='accuracy')\n",
    "\n",
    "# Fit\n",
    "rs.fit(X_train, y_train)\n",
    "\n",
    "# predict\n",
    "preds = rs.predict(X_test)\n",
    "\n",
    "pred_proba = rs.predict_proba(X_test)[:,1]"
   ]
  },
  {
   "cell_type": "code",
   "execution_count": 90,
   "metadata": {},
   "outputs": [
    {
     "data": {
      "text/plain": [
       "1.0    0.521739\n",
       "0.0    0.478261\n",
       "Name: Target_1d, dtype: float64"
      ]
     },
     "execution_count": 90,
     "metadata": {},
     "output_type": "execute_result"
    }
   ],
   "source": [
    "#Base Line\n",
    "y_test.value_counts(normalize=True)"
   ]
  },
  {
   "cell_type": "code",
   "execution_count": 91,
   "metadata": {},
   "outputs": [
    {
     "data": {
      "text/plain": [
       "{'pca__n_components': 89,\n",
       " 'XGB__subsample': 0.3,\n",
       " 'XGB__reg_lambda': 3,\n",
       " 'XGB__reg_alpha': 1,\n",
       " 'XGB__n_estimators': 1000,\n",
       " 'XGB__min_child_weight': 1,\n",
       " 'XGB__max_depth': 13,\n",
       " 'XGB__learning_rate': 0.0011,\n",
       " 'XGB__gamma': 0.5,\n",
       " 'XGB__colsample_bytree': 0.3}"
      ]
     },
     "execution_count": 91,
     "metadata": {},
     "output_type": "execute_result"
    }
   ],
   "source": [
    "rs.best_params_"
   ]
  },
  {
   "cell_type": "code",
   "execution_count": 92,
   "metadata": {},
   "outputs": [
    {
     "data": {
      "text/plain": [
       "0.5488210005211047"
      ]
     },
     "execution_count": 92,
     "metadata": {},
     "output_type": "execute_result"
    }
   ],
   "source": [
    "rs.best_score_"
   ]
  },
  {
   "cell_type": "code",
   "execution_count": 93,
   "metadata": {},
   "outputs": [
    {
     "data": {
      "text/plain": [
       "(0.9506037321624589, 0.4968944099378882)"
      ]
     },
     "execution_count": 93,
     "metadata": {},
     "output_type": "execute_result"
    }
   ],
   "source": [
    "rs.score(X_train,y_train) , rs.score(X_test,y_test)"
   ]
  },
  {
   "cell_type": "code",
   "execution_count": 94,
   "metadata": {},
   "outputs": [
    {
     "name": "stdout",
     "output_type": "stream",
     "text": [
      "Accuracy score 0.4968944099378882  \n",
      "\n",
      "----------------------------------------------------------------\n",
      "                   Actual Down  Actual Up/Unch\n",
      "Predicted Down              30              47\n",
      "Predicted Up/Unch           34              50 \n",
      "\n",
      "-----------------------------------------------------------------\n",
      "              precision    recall  f1-score   support\n",
      "\n",
      "         0.0       0.47      0.39      0.43        77\n",
      "         1.0       0.52      0.60      0.55        84\n",
      "\n",
      "    accuracy                           0.50       161\n",
      "   macro avg       0.49      0.49      0.49       161\n",
      "weighted avg       0.49      0.50      0.49       161\n",
      "\n",
      "-----------------------------------------------------------------\n",
      "ROC_AUC SCORE 0.5003092145949288 \n"
     ]
    }
   ],
   "source": [
    "metrics(y_test, preds, pred_proba)"
   ]
  },
  {
   "cell_type": "code",
   "execution_count": 95,
   "metadata": {},
   "outputs": [
    {
     "data": {
      "image/png": "[encoded data removed]",
      "text/plain": [
       "<Figure size 432x288 with 2 Axes>"
      ]
     },
     "metadata": {
      "needs_background": "dark"
     },
     "output_type": "display_data"
    }
   ],
   "source": [
    "plot_confusion_matrix(rs, X_test, y_test, cmap='Blues', \n",
    "                      values_format='d', display_labels=['Down', 'Up/Sideways']);"
   ]
  },
  {
   "cell_type": "code",
   "execution_count": 96,
   "metadata": {},
   "outputs": [
    {
     "data": {
      "image/png": "[encoded data removed]",
      "text/plain": [
       "<Figure size 432x288 with 1 Axes>"
      ]
     },
     "metadata": {
      "needs_background": "dark"
     },
     "output_type": "display_data"
    }
   ],
   "source": [
    "plot_roc_curve(rs, X_test, y_test)\n",
    "plt.plot([0, 1], [0, 1],\n",
    "         label='baseline', linestyle='--')\n",
    "plt.legend();"
   ]
  },
  {
   "cell_type": "code",
   "execution_count": 108,
   "metadata": {},
   "outputs": [],
   "source": [
    "pipe3 = Pipeline([\n",
    "    ('ss', StandardScaler()),\n",
    "    ('XGB', XGBClassifier(seed=42,tree_method = \"exact\",eval_metric = [\"auc\",'error','map'], \n",
    "                          objective = \"binary:logistic\"))])\n",
    "\n",
    "params3 = { \n",
    "            \"XGB__learning_rate\": [0.3, 0.1, 0.05, 0.01, 0.0033, 0.0011, 0.001],\n",
    "            \"XGB__gamma\" : [0.01, 0.1, 0.3, 0.5, 1, 1.5, 2],\n",
    "            \"XGB__max_depth\": [3, 6, 8, 10, 20],\n",
    "            \"XGB__colsample_bytree\": [0.2, 0.4, 0.8, 1.0],\n",
    "            \"XGB__subsample\": [0.3, 0.4, 0.5, 0.6, 0.7],\n",
    "            \"XGB__reg_alpha\": [0.1, 0.3, 0.5, 1],\n",
    "            \"XGB__reg_lambda\": [1, 1.5, 2, 3, 4.5],\n",
    "            \"XGB__min_child_weight\": [1, 2, 4, 8, 10 ,15],\n",
    "            \"XGB__n_estimators\": [100, 250, 500, 1000]}\n",
    "\n",
    "cv_folds = StratifiedKFold(n_splits=10,shuffle=True,random_state=42)\n",
    "\n",
    "# Create GridSearchCV Object\n",
    "#gs2 = GridSearchCV(pipe3, params3, cv=cv_folds3,scoring='accuracy')\n",
    "rs2 = RandomizedSearchCV(pipe3, params3, n_iter=10, cv=cv_folds, scoring='accuracy')\n",
    "# Fit\n",
    "rs2.fit(X_train, y_train)\n",
    "\n",
    "# predict\n",
    "preds = rs2.predict(X_test)\n",
    "\n",
    "pred_proba = rs2.predict_proba(X_test)[:,1]"
   ]
  },
  {
   "cell_type": "code",
   "execution_count": 109,
   "metadata": {},
   "outputs": [
    {
     "data": {
      "text/plain": [
       "1.0    0.521739\n",
       "0.0    0.478261\n",
       "Name: Target_1d, dtype: float64"
      ]
     },
     "execution_count": 109,
     "metadata": {},
     "output_type": "execute_result"
    }
   ],
   "source": [
    "#Base Line\n",
    "y_test.value_counts(normalize=True)"
   ]
  },
  {
   "cell_type": "code",
   "execution_count": 110,
   "metadata": {},
   "outputs": [
    {
     "data": {
      "text/plain": [
       "{'pca__n_components': 89,\n",
       " 'XGB__subsample': 0.3,\n",
       " 'XGB__reg_lambda': 3,\n",
       " 'XGB__reg_alpha': 1,\n",
       " 'XGB__n_estimators': 1000,\n",
       " 'XGB__min_child_weight': 1,\n",
       " 'XGB__max_depth': 13,\n",
       " 'XGB__learning_rate': 0.0011,\n",
       " 'XGB__gamma': 0.5,\n",
       " 'XGB__colsample_bytree': 0.3}"
      ]
     },
     "execution_count": 110,
     "metadata": {},
     "output_type": "execute_result"
    }
   ],
   "source": [
    "rs.best_params_"
   ]
  },
  {
   "cell_type": "code",
   "execution_count": 111,
   "metadata": {},
   "outputs": [
    {
     "data": {
      "text/plain": [
       "0.5488210005211047"
      ]
     },
     "execution_count": 111,
     "metadata": {},
     "output_type": "execute_result"
    }
   ],
   "source": [
    "rs.best_score_"
   ]
  },
  {
   "cell_type": "code",
   "execution_count": 112,
   "metadata": {},
   "outputs": [
    {
     "data": {
      "text/plain": [
       "(0.9506037321624589, 0.4968944099378882)"
      ]
     },
     "execution_count": 112,
     "metadata": {},
     "output_type": "execute_result"
    }
   ],
   "source": [
    "rs.score(X_train,y_train) , rs.score(X_test,y_test)"
   ]
  },
  {
   "cell_type": "code",
   "execution_count": 113,
   "metadata": {},
   "outputs": [
    {
     "name": "stdout",
     "output_type": "stream",
     "text": [
      "Accuracy score 0.5341614906832298  \n",
      "\n",
      "----------------------------------------------------------------\n",
      "                   Actual Down  Actual Up/Unch\n",
      "Predicted Down              41              36\n",
      "Predicted Up/Unch           39              45 \n",
      "\n",
      "-----------------------------------------------------------------\n",
      "              precision    recall  f1-score   support\n",
      "\n",
      "         0.0       0.51      0.53      0.52        77\n",
      "         1.0       0.56      0.54      0.55        84\n",
      "\n",
      "    accuracy                           0.53       161\n",
      "   macro avg       0.53      0.53      0.53       161\n",
      "weighted avg       0.53      0.53      0.53       161\n",
      "\n",
      "-----------------------------------------------------------------\n",
      "ROC_AUC SCORE 0.5718923933209648 \n"
     ]
    }
   ],
   "source": [
    "metrics(y_test, preds, pred_proba)"
   ]
  },
  {
   "cell_type": "code",
   "execution_count": 114,
   "metadata": {},
   "outputs": [
    {
     "data": {
      "image/png": "[encoded data removed]",
      "text/plain": [
       "<Figure size 432x288 with 2 Axes>"
      ]
     },
     "metadata": {
      "needs_background": "dark"
     },
     "output_type": "display_data"
    }
   ],
   "source": [
    "plot_confusion_matrix(rs, X_test, y_test, cmap='Blues', \n",
    "                      values_format='d', display_labels=['Down', 'Up/Sideways']);"
   ]
  },
  {
   "cell_type": "code",
   "execution_count": 115,
   "metadata": {},
   "outputs": [
    {
     "data": {
      "image/png": "[encoded data removed]",
      "text/plain": [
       "<Figure size 432x288 with 1 Axes>"
      ]
     },
     "metadata": {
      "needs_background": "dark"
     },
     "output_type": "display_data"
    }
   ],
   "source": [
    "plot_roc_curve(rs, X_test, y_test)\n",
    "plt.plot([0, 1], [0, 1],\n",
    "         label='baseline', linestyle='--')\n",
    "plt.legend();"
   ]
  },
  {
   "cell_type": "markdown",
   "metadata": {},
   "source": [
    "# SVM Pipes"
   ]
  },
  {
   "cell_type": "code",
   "execution_count": 116,
   "metadata": {},
   "outputs": [],
   "source": [
    "pipe4 = Pipeline([\n",
    "    ('ss', StandardScaler()),\n",
    "    ('SVC', SVC(probability=True,random_state=42))\n",
    "    ])\n",
    "\n",
    "params4 = {\n",
    "          'SVC__gamma': [1e-5, 1e-4, 1e-3, 1e-2, 1e-1, 1],\n",
    "          'SVC__C' : [1e-5, 1e-3, 1e-2, 1e-1, 0.1, 1],\n",
    "          'SVC__kernel': ['linear', 'poly', 'rbf', 'sigmoid'],\n",
    "          'SVC__class_weight' : ['balanced', None],\n",
    "          'SVC__shrinking' : [True, False]\n",
    "          }\n",
    "\n",
    "cv_folds4 = StratifiedKFold(n_splits=10,shuffle=True,random_state=42)\n",
    "\n",
    "gs4 = GridSearchCV(pipe4, params4, cv=cv_folds4, scoring='accuracy')\n",
    "\n",
    "# Fit\n",
    "gs4.fit(X_train, y_train)\n",
    "\n",
    "preds = gs4.predict(X_test)\n",
    "\n",
    "pred_proba = gs4.predict_proba(X_test)[:,1]"
   ]
  },
  {
   "cell_type": "code",
   "execution_count": 117,
   "metadata": {},
   "outputs": [
    {
     "data": {
      "text/plain": [
       "1.0    0.521739\n",
       "0.0    0.478261\n",
       "Name: Target_1d, dtype: float64"
      ]
     },
     "execution_count": 117,
     "metadata": {},
     "output_type": "execute_result"
    }
   ],
   "source": [
    "#Base Line\n",
    "y_test.value_counts(normalize=True)"
   ]
  },
  {
   "cell_type": "code",
   "execution_count": null,
   "metadata": {},
   "outputs": [],
   "source": []
  },
  {
   "cell_type": "code",
   "execution_count": 119,
   "metadata": {},
   "outputs": [
    {
     "data": {
      "text/plain": [
       "0.5510610271553471"
      ]
     },
     "execution_count": 119,
     "metadata": {},
     "output_type": "execute_result"
    }
   ],
   "source": [
    "gs4.best_score_"
   ]
  },
  {
   "cell_type": "code",
   "execution_count": 120,
   "metadata": {},
   "outputs": [
    {
     "data": {
      "text/plain": [
       "(0.9253567508232712, 0.5527950310559007)"
      ]
     },
     "execution_count": 120,
     "metadata": {},
     "output_type": "execute_result"
    }
   ],
   "source": [
    "gs4.score(X_train,y_train) , gs4.score(X_test,y_test)"
   ]
  },
  {
   "cell_type": "code",
   "execution_count": 121,
   "metadata": {},
   "outputs": [
    {
     "name": "stdout",
     "output_type": "stream",
     "text": [
      "Accuracy score 0.5527950310559007  \n",
      "\n",
      "----------------------------------------------------------------\n",
      "                   Actual Down  Actual Up/Unch\n",
      "Predicted Down              26              51\n",
      "Predicted Up/Unch           21              63 \n",
      "\n",
      "-----------------------------------------------------------------\n",
      "              precision    recall  f1-score   support\n",
      "\n",
      "         0.0       0.55      0.34      0.42        77\n",
      "         1.0       0.55      0.75      0.64        84\n",
      "\n",
      "    accuracy                           0.55       161\n",
      "   macro avg       0.55      0.54      0.53       161\n",
      "weighted avg       0.55      0.55      0.53       161\n",
      "\n",
      "-----------------------------------------------------------------\n",
      "ROC_AUC SCORE 0.54143475572047 \n"
     ]
    }
   ],
   "source": [
    "metrics(y_test, preds, pred_proba)"
   ]
  },
  {
   "cell_type": "code",
   "execution_count": 122,
   "metadata": {},
   "outputs": [
    {
     "data": {
      "image/png": "[encoded data removed]",
      "text/plain": [
       "<Figure size 432x288 with 2 Axes>"
      ]
     },
     "metadata": {
      "needs_background": "dark"
     },
     "output_type": "display_data"
    }
   ],
   "source": [
    "plot_confusion_matrix(gs4, X_test, y_test, cmap='Blues', \n",
    "                      values_format='d', display_labels=['Down', 'Up/Sideways']);"
   ]
  },
  {
   "cell_type": "code",
   "execution_count": 123,
   "metadata": {},
   "outputs": [
    {
     "data": {
      "image/png": "[encoded data removed]",
      "text/plain": [
       "<Figure size 432x288 with 1 Axes>"
      ]
     },
     "metadata": {
      "needs_background": "dark"
     },
     "output_type": "display_data"
    }
   ],
   "source": [
    "plot_roc_curve(gs4, X_test, y_test)\n",
    "plt.plot([0, 1], [0, 1],\n",
    "         label='baseline', linestyle='--')\n",
    "plt.legend();"
   ]
  },
  {
   "cell_type": "markdown",
   "metadata": {},
   "source": [
    "# Neural Networks"
   ]
  },
  {
   "cell_type": "code",
   "execution_count": 177,
   "metadata": {},
   "outputs": [],
   "source": [
    "from keras.callbacks import ReduceLROnPlateau\n",
    "from keras.models import Sequential\n",
    "from tensorflow.keras.callbacks import EarlyStopping\n",
    "from tensorflow.keras.regularizers import l2\n",
    "from keras.layers import Dense, Input, Dropout\n",
    "from keras.wrappers.scikit_learn import KerasClassifier\n",
    "from keras.utils import np_utils\n",
    "\n",
    "from tensorflow.keras.layers import Dense, Dropout, Flatten, Conv2D, MaxPool2D"
   ]
  },
  {
   "cell_type": "markdown",
   "metadata": {},
   "source": [
    "# Baseline NN Model"
   ]
  },
  {
   "cell_type": "code",
   "execution_count": 151,
   "metadata": {},
   "outputs": [],
   "source": [
    "# baseline model\n",
    "def create_baseline():\n",
    "\t# create model\n",
    "\tmodel = Sequential()\n",
    "\tmodel.add(Dense(189, input_dim=189, activation='relu'))\n",
    "\tmodel.add(Dense(1, activation='sigmoid'))\n",
    "\t# Compile model\n",
    "\tmodel.compile(loss='binary_crossentropy', optimizer='adam', metrics=['accuracy'])\n",
    "\treturn model"
   ]
  },
  {
   "cell_type": "code",
   "execution_count": 154,
   "metadata": {},
   "outputs": [
    {
     "name": "stdout",
     "output_type": "stream",
     "text": [
      "Baseline: 50.71% (2.28%)\n"
     ]
    }
   ],
   "source": [
    "# evaluate model with standardized dataset\n",
    "estimator = KerasClassifier(build_fn=create_baseline, epochs=100, batch_size=5, verbose=0)\n",
    "kfold = StratifiedKFold(n_splits=10, shuffle=True)\n",
    "results = cross_val_score(estimator, X_train, y_train, cv=kfold)\n",
    "print(\"Baseline: %.2f%% (%.2f%%)\" % (results.mean()*100, results.std()*100))"
   ]
  },
  {
   "cell_type": "code",
   "execution_count": 161,
   "metadata": {},
   "outputs": [
    {
     "data": {
      "text/plain": [
       "(911, 189)"
      ]
     },
     "execution_count": 161,
     "metadata": {},
     "output_type": "execute_result"
    }
   ],
   "source": [
    "X_train.shape"
   ]
  },
  {
   "cell_type": "code",
   "execution_count": null,
   "metadata": {},
   "outputs": [],
   "source": []
  },
  {
   "cell_type": "code",
   "execution_count": null,
   "metadata": {},
   "outputs": [],
   "source": []
  },
  {
   "cell_type": "code",
   "execution_count": null,
   "metadata": {},
   "outputs": [],
   "source": []
  },
  {
   "cell_type": "code",
   "execution_count": null,
   "metadata": {},
   "outputs": [],
   "source": []
  },
  {
   "cell_type": "code",
   "execution_count": null,
   "metadata": {},
   "outputs": [],
   "source": []
  },
  {
   "cell_type": "code",
   "execution_count": null,
   "metadata": {},
   "outputs": [],
   "source": []
  },
  {
   "cell_type": "code",
   "execution_count": null,
   "metadata": {},
   "outputs": [],
   "source": []
  },
  {
   "cell_type": "code",
   "execution_count": 413,
   "metadata": {},
   "outputs": [],
   "source": []
  },
  {
   "cell_type": "code",
   "execution_count": 414,
   "metadata": {},
   "outputs": [
    {
     "name": "stdout",
     "output_type": "stream",
     "text": [
      "Epoch 1/10\n",
      "16/16 [==============================] - 0s 8ms/step - loss: 1245397632.0000 - accuracy: 0.4973 - val_loss: 69890056.0000 - val_accuracy: 0.4907\n",
      "Epoch 2/10\n",
      "16/16 [==============================] - 0s 2ms/step - loss: 417559232.0000 - accuracy: 0.5093 - val_loss: 31568228.0000 - val_accuracy: 0.5155\n",
      "Epoch 3/10\n",
      "16/16 [==============================] - 0s 2ms/step - loss: 264710192.0000 - accuracy: 0.4918 - val_loss: 45249932.0000 - val_accuracy: 0.5155\n",
      "Epoch 4/10\n",
      "16/16 [==============================] - 0s 2ms/step - loss: 182536144.0000 - accuracy: 0.4742 - val_loss: 9794134.0000 - val_accuracy: 0.5217\n",
      "Epoch 5/10\n",
      "16/16 [==============================] - 0s 2ms/step - loss: 124197488.0000 - accuracy: 0.5203 - val_loss: 10750422.0000 - val_accuracy: 0.4969\n",
      "Epoch 6/10\n",
      "16/16 [==============================] - 0s 2ms/step - loss: 90294320.0000 - accuracy: 0.5104 - val_loss: 12382460.0000 - val_accuracy: 0.4969\n",
      "Epoch 7/10\n",
      "16/16 [==============================] - 0s 2ms/step - loss: 66184048.0000 - accuracy: 0.5203 - val_loss: 8721630.0000 - val_accuracy: 0.5280\n",
      "Epoch 8/10\n",
      "16/16 [==============================] - 0s 2ms/step - loss: 51938392.0000 - accuracy: 0.4984 - val_loss: 5236911.5000 - val_accuracy: 0.5280\n",
      "Epoch 9/10\n",
      "16/16 [==============================] - 0s 2ms/step - loss: 41016136.0000 - accuracy: 0.4929 - val_loss: 1941603.7500 - val_accuracy: 0.5280\n",
      "Epoch 10/10\n",
      "16/16 [==============================] - 0s 2ms/step - loss: 31441418.0000 - accuracy: 0.5016 - val_loss: 1835562.0000 - val_accuracy: 0.4907\n"
     ]
    }
   ],
   "source": [
    "#Fit model on training data.\n",
    "history = nn.fit(X_train,\n",
    "                    y_train, \n",
    "                    batch_size=batch_size,\n",
    "                    validation_data=(X_test, y_test),\n",
    "                    epochs=epochs,\n",
    "                    verbose=1)\n",
    "\n",
    "# always want to see steady decrease in loss, and steady increase in accuracy"
   ]
  },
  {
   "cell_type": "code",
   "execution_count": 415,
   "metadata": {},
   "outputs": [
    {
     "data": {
      "image/png": "[encoded data removed]",
      "text/plain": [
       "<Figure size 864x576 with 1 Axes>"
      ]
     },
     "metadata": {
      "needs_background": "dark"
     },
     "output_type": "display_data"
    }
   ],
   "source": [
    "# Check out our train loss and test loss over epochs.\n",
    "train_loss = history.history['loss']\n",
    "test_loss = history.history['val_loss']\n",
    "epoch_labels = history.epoch\n",
    "\n",
    "# Set figure size.\n",
    "plt.figure(figsize=(12, 8))\n",
    "\n",
    "# Generate line plot of training, testing loss over epochs.\n",
    "plt.plot(train_loss, label='Training Loss', color='#185fad')\n",
    "plt.plot(test_loss, label='Testing Loss', color='orange')\n",
    "\n",
    "# Set title\n",
    "plt.title('Training and Testing Loss by Epoch', fontsize=25)\n",
    "plt.xlabel('Epoch', fontsize=18)\n",
    "plt.ylabel('BCE', fontsize=18)\n",
    "plt.xticks(epoch_labels, epoch_labels)    # ticks, labels\n",
    "\n",
    "plt.legend(fontsize=18);"
   ]
  },
  {
   "cell_type": "code",
   "execution_count": 403,
   "metadata": {},
   "outputs": [
    {
     "name": "stdout",
     "output_type": "stream",
     "text": [
      "6/6 [==============================] - 0s 512us/step - loss: 3947593.5000 - accuracy: 0.5217\n",
      "loss: 3947593.5\n",
      "accuracy: 0.52173912525177\n"
     ]
    }
   ],
   "source": [
    "# Evaluate model on test data.\n",
    "score = nn.evaluate(X_test,\n",
    "                       y_test,\n",
    "                       verbose=1)\n",
    "\n",
    "labels = nn.metrics_names\n",
    "\n",
    "# Show model performance.\n",
    "print(f'{labels[0]}: {score[0]}')\n",
    "print(f'{labels[1]}: {score[1]}')"
   ]
  },
  {
   "cell_type": "code",
   "execution_count": 404,
   "metadata": {},
   "outputs": [
    {
     "data": {
      "text/plain": [
       "(0.49615806341171265, 0.52173912525177)"
      ]
     },
     "execution_count": 404,
     "metadata": {},
     "output_type": "execute_result"
    }
   ],
   "source": [
    "history.history['accuracy'][-1], history.history['val_accuracy'][-1]"
   ]
  },
  {
   "cell_type": "code",
   "execution_count": null,
   "metadata": {},
   "outputs": [],
   "source": []
  },
  {
   "cell_type": "code",
   "execution_count": 353,
   "metadata": {},
   "outputs": [],
   "source": [
    "# Predicting the Test set results\n",
    "y_pred = nn.predict(X_test)\n",
    "\n",
    "pred_proba = nn.predict_proba(X_test)"
   ]
  },
  {
   "cell_type": "code",
   "execution_count": 354,
   "metadata": {},
   "outputs": [
    {
     "name": "stdout",
     "output_type": "stream",
     "text": [
      "accuracy of NN model is :  0.5341614906832298\n"
     ]
    },
    {
     "data": {
      "image/png": "[encoded data removed]",
      "text/plain": [
       "<Figure size 432x288 with 1 Axes>"
      ]
     },
     "metadata": {
      "needs_background": "dark"
     },
     "output_type": "display_data"
    }
   ],
   "source": [
    "cm = confusion_matrix(y_test, y_pred.round())\n",
    "sns.heatmap(cm,annot=True,cmap=\"Blues\",fmt=\"d\",cbar=False)\n",
    "#accuracy score\n",
    "from sklearn.metrics import accuracy_score\n",
    "ac=accuracy_score(y_test, y_pred.round())\n",
    "plt.xlabel('Actual Label')\n",
    "plt.ylabel('Predicted Label')\n",
    "print('accuracy of NN model is : ',ac)"
   ]
  },
  {
   "cell_type": "code",
   "execution_count": 355,
   "metadata": {},
   "outputs": [],
   "source": [
    "from sklearn.metrics import precision_recall_curve\n",
    "from sklearn.metrics import average_precision_score\n",
    "from sklearn.metrics import roc_curve\n",
    "from sklearn.metrics import auc"
   ]
  },
  {
   "cell_type": "code",
   "execution_count": 356,
   "metadata": {},
   "outputs": [
    {
     "data": {
      "text/plain": [
       "<Figure size 432x288 with 0 Axes>"
      ]
     },
     "execution_count": 356,
     "metadata": {},
     "output_type": "execute_result"
    },
    {
     "data": {
      "image/png": "[encoded data removed]",
      "text/plain": [
       "<Figure size 720x360 with 2 Axes>"
      ]
     },
     "metadata": {
      "needs_background": "dark"
     },
     "output_type": "display_data"
    },
    {
     "data": {
      "text/plain": [
       "<Figure size 432x288 with 0 Axes>"
      ]
     },
     "metadata": {},
     "output_type": "display_data"
    }
   ],
   "source": [
    "def plotting(true,pred):\n",
    "    fig,ax=plt.subplots(1,2,figsize=(10,5))\n",
    "    precision,recall,threshold = precision_recall_curve(true,pred)\n",
    "    ax[0].plot(recall,precision,'g--')\n",
    "    ax[0].set_xlabel('Recall')\n",
    "    ax[0].set_ylabel('Precision')\n",
    "    ax[0].set_title(\"Average Precision Score : {}\".format(average_precision_score(true,pred)))\n",
    "    fpr,tpr,threshold = roc_curve(true,pred)\n",
    "    ax[1].plot(fpr,tpr)\n",
    "    ax[1].set_title(\"AUC Score is: {}\".format(auc(fpr,tpr)))\n",
    "    ax[1].plot([0,1],[0,1],'k--')\n",
    "    ax[1].set_xlabel('False Positive Rate')\n",
    "    ax[1].set_ylabel('True Positive Rate')\n",
    "plotting(y_test,nn.predict_proba(X_test))\n",
    "plt.figure()   "
   ]
  },
  {
   "cell_type": "code",
   "execution_count": 357,
   "metadata": {},
   "outputs": [
    {
     "data": {
      "text/plain": [
       "0.5526315789473685"
      ]
     },
     "execution_count": 357,
     "metadata": {},
     "output_type": "execute_result"
    }
   ],
   "source": [
    "precision_score(y_test,preds)"
   ]
  },
  {
   "cell_type": "code",
   "execution_count": 358,
   "metadata": {},
   "outputs": [
    {
     "name": "stdout",
     "output_type": "stream",
     "text": [
      "Accuracy score 0.5341614906832298  \n",
      "\n",
      "----------------------------------------------------------------\n",
      "                   Actual Down  Actual Up/Unch\n",
      "Predicted Down              61              16\n",
      "Predicted Up/Unch           59              25 \n",
      "\n",
      "-----------------------------------------------------------------\n",
      "              precision    recall  f1-score   support\n",
      "\n",
      "         0.0       0.51      0.79      0.62        77\n",
      "         1.0       0.61      0.30      0.40        84\n",
      "\n",
      "    accuracy                           0.53       161\n",
      "   macro avg       0.56      0.54      0.51       161\n",
      "weighted avg       0.56      0.53      0.50       161\n",
      "\n",
      "-----------------------------------------------------------------\n",
      "ROC_AUC SCORE 0.5449134199134199 \n"
     ]
    }
   ],
   "source": [
    "metrics(y_test, y_pred, pred_proba)"
   ]
  },
  {
   "cell_type": "code",
   "execution_count": null,
   "metadata": {},
   "outputs": [],
   "source": []
  },
  {
   "cell_type": "code",
   "execution_count": null,
   "metadata": {},
   "outputs": [],
   "source": []
  },
  {
   "cell_type": "code",
   "execution_count": null,
   "metadata": {},
   "outputs": [],
   "source": []
  },
  {
   "cell_type": "code",
   "execution_count": null,
   "metadata": {},
   "outputs": [],
   "source": []
  },
  {
   "cell_type": "code",
   "execution_count": null,
   "metadata": {},
   "outputs": [],
   "source": []
  },
  {
   "cell_type": "code",
   "execution_count": null,
   "metadata": {},
   "outputs": [],
   "source": []
  },
  {
   "cell_type": "code",
   "execution_count": null,
   "metadata": {},
   "outputs": [],
   "source": []
  },
  {
   "cell_type": "code",
   "execution_count": 256,
   "metadata": {},
   "outputs": [],
   "source": []
  },
  {
   "cell_type": "code",
   "execution_count": 251,
   "metadata": {},
   "outputs": [],
   "source": []
  },
  {
   "cell_type": "code",
   "execution_count": 252,
   "metadata": {},
   "outputs": [
    {
     "name": "stdout",
     "output_type": "stream",
     "text": [
      "27/27 [==============================] - 0s 471us/step - loss: 183445552.0000 - accuracy: 0.4982\n",
      "7/7 [==============================] - 0s 545us/step - loss: 143087808.0000 - accuracy: 0.6000\n",
      "Model changed\n",
      "27/27 [==============================] - 0s 479us/step - loss: 435101152.0000 - accuracy: 0.5251\n",
      "7/7 [==============================] - 0s 632us/step - loss: 451043968.0000 - accuracy: 0.5070\n",
      "27/27 [==============================] - 0s 441us/step - loss: 376717536.0000 - accuracy: 0.5326\n",
      "7/7 [==============================] - 0s 546us/step - loss: 418058208.0000 - accuracy: 0.4766\n",
      "27/27 [==============================] - 0s 465us/step - loss: 304225984.0000 - accuracy: 0.5186\n",
      "7/7 [==============================] - 0s 549us/step - loss: 290276320.0000 - accuracy: 0.5374\n",
      "27/27 [==============================] - 0s 462us/step - loss: 383288736.0000 - accuracy: 0.5315\n",
      "7/7 [==============================] - 0s 498us/step - loss: 438106624.0000 - accuracy: 0.4813\n"
     ]
    }
   ],
   "source": []
  },
  {
   "cell_type": "code",
   "execution_count": 253,
   "metadata": {},
   "outputs": [
    {
     "data": {
      "text/html": [
       "<div>\n",
       "<style scoped>\n",
       "    .dataframe tbody tr th:only-of-type {\n",
       "        vertical-align: middle;\n",
       "    }\n",
       "\n",
       "    .dataframe tbody tr th {\n",
       "        vertical-align: top;\n",
       "    }\n",
       "\n",
       "    .dataframe thead th {\n",
       "        text-align: right;\n",
       "    }\n",
       "</style>\n",
       "<table border=\"1\" class=\"dataframe\">\n",
       "  <thead>\n",
       "    <tr style=\"text-align: right;\">\n",
       "      <th></th>\n",
       "      <th>Train Accuracy</th>\n",
       "      <th>Test Accuracy</th>\n",
       "    </tr>\n",
       "  </thead>\n",
       "  <tbody>\n",
       "    <tr>\n",
       "      <th>1</th>\n",
       "      <td>0.498250</td>\n",
       "      <td>0.600000</td>\n",
       "    </tr>\n",
       "    <tr>\n",
       "      <th>2</th>\n",
       "      <td>0.525088</td>\n",
       "      <td>0.506977</td>\n",
       "    </tr>\n",
       "    <tr>\n",
       "      <th>3</th>\n",
       "      <td>0.532634</td>\n",
       "      <td>0.476636</td>\n",
       "    </tr>\n",
       "    <tr>\n",
       "      <th>4</th>\n",
       "      <td>0.518648</td>\n",
       "      <td>0.537383</td>\n",
       "    </tr>\n",
       "    <tr>\n",
       "      <th>5</th>\n",
       "      <td>0.531469</td>\n",
       "      <td>0.481308</td>\n",
       "    </tr>\n",
       "  </tbody>\n",
       "</table>\n",
       "</div>"
      ],
      "text/plain": [
       "   Train Accuracy  Test Accuracy\n",
       "1        0.498250       0.600000\n",
       "2        0.525088       0.506977\n",
       "3        0.532634       0.476636\n",
       "4        0.518648       0.537383\n",
       "5        0.531469       0.481308"
      ]
     },
     "execution_count": 253,
     "metadata": {},
     "output_type": "execute_result"
    }
   ],
   "source": [
    "# Compile the Train and Test Accuracy from KFold\n",
    "pd.DataFrame({\n",
    "    'Train Accuracy': tracc_arr,\n",
    "    'Test Accuracy': acc_arr},\n",
    "    index=range(1,6))"
   ]
  },
  {
   "cell_type": "code",
   "execution_count": 254,
   "metadata": {},
   "outputs": [],
   "source": []
  },
  {
   "cell_type": "code",
   "execution_count": null,
   "metadata": {},
   "outputs": [],
   "source": []
  },
  {
   "cell_type": "code",
   "execution_count": null,
   "metadata": {},
   "outputs": [],
   "source": []
  },
  {
   "cell_type": "code",
   "execution_count": null,
   "metadata": {},
   "outputs": [],
   "source": [
    "  "
   ]
  },
  {
   "cell_type": "code",
   "execution_count": null,
   "metadata": {},
   "outputs": [],
   "source": []
  }
 ],
 "metadata": {
  "kernelspec": {
   "display_name": "Python 3",
   "language": "python",
   "name": "python3"
  },
  "language_info": {
   "codemirror_mode": {
    "name": "ipython",
    "version": 3
   },
   "file_extension": ".py",
   "mimetype": "text/x-python",
   "name": "python",
   "nbconvert_exporter": "python",
   "pygments_lexer": "ipython3",
   "version": "3.8.3"
  }
 },
 "nbformat": 4,
 "nbformat_minor": 4
}
